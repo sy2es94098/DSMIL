{
 "cells": [
  {
   "cell_type": "code",
   "execution_count": 1,
   "id": "d7c6f43f",
   "metadata": {},
   "outputs": [],
   "source": [
    "# -*- coding: utf-8 -*-\n",
    "\"\"\"\n",
    "Created on Wed Jan 20 14:09:32 2016\n",
    "\n",
    "@author: Babak Ehteshami Bejnordi\n",
    "\n",
    "Evaluation code for the Camelyon16 challenge on cancer metastases detecion\n",
    "\"\"\"\n",
    "\n",
    "import openslide\n",
    "import numpy as np\n",
    "import matplotlib.pyplot as plt\n",
    "from scipy import ndimage as nd\n",
    "from skimage import measure\n",
    "import os\n",
    "import sys\n",
    "from PIL import Image\n",
    "\n",
    "   \n",
    "def computeEvaluationMask(maskDIR, resolution, level):\n",
    "    \"\"\"Computes the evaluation mask.\n",
    "    \n",
    "    Args:\n",
    "        maskDIR:    the directory of the ground truth mask\n",
    "        resolution: Pixel resolution of the image at level 0\n",
    "        level:      The level at which the evaluation mask is made\n",
    "        \n",
    "    Returns:\n",
    "        evaluation_mask\n",
    "    \"\"\"\n",
    "    slide = openslide.open_slide(maskDIR)\n",
    "    \n",
    "    dims = slide.level_dimensions[level]\n",
    "    \n",
    "    pixelarray = np.zeros(dims[0]*dims[1], dtype='uint')\n",
    "    pixelarray = np.array(slide.read_region((0,0), level, dims))\n",
    "\n",
    "    distance = nd.distance_transform_edt(255 - pixelarray[:,:,0])\n",
    "    #print(np.unique(distance))\n",
    "    Threshold = 75/(resolution * pow(2, level) * 2) # 75µm is the equivalent size of 5 tumor cells\n",
    "    binary = distance < Threshold\n",
    "    #print(binary)\n",
    "    filled_image = nd.morphology.binary_fill_holes(binary)\n",
    "    evaluation_mask = measure.label(filled_image, connectivity = 2) \n",
    "    #print(np.unique(evaluation_mask))\n",
    "    #evaluation_mask = np.array(evaluation_mask)\n",
    "    vis = evaluation_mask*255/np.max(evaluation_mask)\n",
    "    print(np.unique(vis))\n",
    "    im = Image.fromarray(vis)\n",
    "    plt.figure()\n",
    "    plt.imshow(im, cmap='gray', vmin=0, vmax=255) \n",
    "    plt.show() \n",
    "    return evaluation_mask\n",
    "    \n",
    "    \n",
    "def computeITCList(evaluation_mask, resolution, level):\n",
    "    \"\"\"Compute the list of labels containing Isolated Tumor Cells (ITC)\n",
    "    \n",
    "    Description:\n",
    "        A region is considered ITC if its longest diameter is below 200µm.\n",
    "        As we expanded the annotations by 75µm, the major axis of the object \n",
    "        should be less than 275µm to be considered as ITC (Each pixel is \n",
    "        0.243µm*0.243µm in level 0). Therefore the major axis of the object \n",
    "        in level 5 should be less than 275/(2^5*0.243) = 35.36 pixels.\n",
    "        \n",
    "    Args:\n",
    "        evaluation_mask:    The evaluation mask\n",
    "        resolution:         Pixel resolution of the image at level 0\n",
    "        level:              The level at which the evaluation mask was made\n",
    "        \n",
    "    Returns:\n",
    "        Isolated_Tumor_Cells: list of labels containing Isolated Tumor Cells\n",
    "    \"\"\"\n",
    "    max_label = np.amax(evaluation_mask)    \n",
    "    properties = measure.regionprops(evaluation_mask)\n",
    "    Isolated_Tumor_Cells = [] \n",
    "    threshold = 275/(resolution * pow(2, level))\n",
    "    for i in range(0, max_label):\n",
    "        if properties[i].major_axis_length < threshold:\n",
    "            Isolated_Tumor_Cells.append(i+1)\n",
    "    return Isolated_Tumor_Cells\n",
    "\n",
    "\n",
    "def readCSVContent(csvDIR):\n",
    "    \"\"\"Reads the data inside CSV file\n",
    "    \n",
    "    Args:\n",
    "        csvDIR:    The directory including all the .csv files containing the results.\n",
    "        Note that the CSV files should have the same name as the original image\n",
    "        \n",
    "    Returns:\n",
    "        Probs:      list of the Probabilities of the detected lesions\n",
    "        Xcorr:      list of X-coordinates of the lesions\n",
    "        Ycorr:      list of Y-coordinates of the lesions\n",
    "    \"\"\"\n",
    "    Xcorr, Ycorr, Probs = ([] for i in range(3))\n",
    "    csv_lines = open(csvDIR,\"r\").readlines()\n",
    "    for i in range(len(csv_lines)):\n",
    "        line = csv_lines[i]\n",
    "        elems = line.rstrip().split(',')\n",
    "        Probs.append(float(elems[0]))\n",
    "        Xcorr.append(int(elems[1]))\n",
    "        Ycorr.append(int(elems[2]))\n",
    "    return Probs, Xcorr, Ycorr\n",
    "\n",
    "def readMaskContent(maskDir, w, h):\n",
    "    \"\"\"Reads the data inside CSV file\n",
    "    \n",
    "    Args:\n",
    "        csvDIR:    The directory including all the .csv files containing the results.\n",
    "        Note that the CSV files should have the same name as the original image\n",
    "        \n",
    "    Returns:\n",
    "        Probs:      list of the Probabilities of the detected lesions\n",
    "        Xcorr:      list of X-coordinates of the lesions\n",
    "        Ycorr:      list of Y-coordinates of the lesions\n",
    "    \"\"\"\n",
    "    Xcorr, Ycorr, Probs = ([] for i in range(3))\n",
    "    predict = Image.open(maskDir).convert('L')\n",
    "    #print(np.shape(predict))\n",
    "    predict = predict.resize((w,h))\n",
    "    predict = np.array(predict)\n",
    "    predict = predict/np.max(predict)\n",
    "    #print(np.shape(predict))\n",
    "    for i in range(len(predict)):\n",
    "        for j in range(len(predict[0])):\n",
    "            if predict[i][j] > 0:\n",
    "                Probs.append(float(predict[i][j]))\n",
    "                Xcorr.append(int(j))\n",
    "                Ycorr.append(int(i))\n",
    "\n",
    "    return Probs, Xcorr, Ycorr\n",
    "    \n",
    "         \n",
    "def compute_FP_TP_Probs(Ycorr, Xcorr, Probs, is_tumor, evaluation_mask, Isolated_Tumor_Cells, level):\n",
    "    \"\"\"Generates true positive and false positive stats for the analyzed image\n",
    "    \n",
    "    Args:\n",
    "        Probs:      list of the Probabilities of the detected lesions\n",
    "        Xcorr:      list of X-coordinates of the lesions\n",
    "        Ycorr:      list of Y-coordinates of the lesions\n",
    "        is_tumor:   A boolean variable which is one when the case cotains tumor\n",
    "        evaluation_mask:    The evaluation mask\n",
    "        Isolated_Tumor_Cells: list of labels containing Isolated Tumor Cells\n",
    "        level:      The level at which the evaluation mask was made\n",
    "         \n",
    "    Returns:\n",
    "        FP_probs:   A list containing the probabilities of the false positive detections\n",
    "        \n",
    "        TP_probs:   A list containing the probabilities of the True positive detections\n",
    "        \n",
    "        NumberOfTumors: Number of Tumors in the image (excluding Isolate Tumor Cells)\n",
    "        \n",
    "        detection_summary:   A python dictionary object with keys that are the labels \n",
    "        of the lesions that should be detected (non-ITC tumors) and values\n",
    "        that contain detection details [confidence score, X-coordinate, Y-coordinate]. \n",
    "        Lesions that are missed by the algorithm have an empty value.\n",
    "        \n",
    "        FP_summary:   A python dictionary object with keys that represent the \n",
    "        false positive finding number and values that contain detection \n",
    "        details [confidence score, X-coordinate, Y-coordinate]. \n",
    "    \"\"\"\n",
    "\n",
    "    max_label = np.amax(evaluation_mask)\n",
    "    FP_probs = [] \n",
    "    TP_probs = np.zeros((max_label,), dtype=np.float32)\n",
    "    detection_summary = {}  \n",
    "    FP_summary = {}\n",
    "    for i in range(1,max_label+1):\n",
    "        if i not in Isolated_Tumor_Cells:\n",
    "            label = 'Label ' + str(i)\n",
    "            detection_summary[label] = []        \n",
    "     \n",
    "    FP_counter = 0       \n",
    "    if (is_tumor):\n",
    "        for i in range(0,len(Xcorr)):\n",
    "            #print(Ycorr[i])\n",
    "            #print(Xcorr[i])\n",
    "            HittedLabel = evaluation_mask[Ycorr[i], Xcorr[i]]\n",
    "            if HittedLabel == 0:\n",
    "                FP_probs.append(Probs[i])\n",
    "                key = 'FP ' + str(FP_counter)\n",
    "                FP_summary[key] = [Probs[i], Xcorr[i], Ycorr[i]]\n",
    "                FP_counter+=1\n",
    "            elif HittedLabel not in Isolated_Tumor_Cells:\n",
    "                if (Probs[i]>TP_probs[HittedLabel-1]):\n",
    "                    label = 'Label ' + str(HittedLabel)\n",
    "                    detection_summary[label] = [Probs[i], Xcorr[i], Ycorr[i]]\n",
    "                    TP_probs[HittedLabel-1] = Probs[i]                                     \n",
    "    else:\n",
    "        for i in range(0,len(Xcorr)):\n",
    "            FP_probs.append(Probs[i]) \n",
    "            key = 'FP ' + str(FP_counter)\n",
    "            FP_summary[key] = [Probs[i], Xcorr[i], Ycorr[i]] \n",
    "            FP_counter+=1\n",
    "            \n",
    "    num_of_tumors = max_label - len(Isolated_Tumor_Cells);                             \n",
    "    return FP_probs, TP_probs, num_of_tumors, detection_summary, FP_summary\n",
    " \n",
    " \n",
    "def computeFROC(FROC_data):\n",
    "    \"\"\"Generates the data required for plotting the FROC curve\n",
    "    \n",
    "    Args:\n",
    "        FROC_data:      Contains the list of TPs, FPs, number of tumors in each image\n",
    "         \n",
    "    Returns:\n",
    "        total_FPs:      A list containing the average number of false positives\n",
    "        per image for different thresholds\n",
    "        \n",
    "        total_sensitivity:  A list containig overall sensitivity of the system\n",
    "        for different thresholds\n",
    "    \"\"\"\n",
    "    \n",
    "    unlisted_FPs = [item for sublist in FROC_data[1] for item in sublist]\n",
    "    unlisted_TPs = [item for sublist in FROC_data[2] for item in sublist] \n",
    "    \n",
    "    total_FPs, total_TPs = [], []\n",
    "    all_probs = sorted(set(unlisted_FPs + unlisted_TPs))\n",
    "    for Thresh in all_probs[1:]:\n",
    "        total_FPs.append((np.asarray(unlisted_FPs) >= Thresh).sum())\n",
    "        total_TPs.append((np.asarray(unlisted_TPs) >= Thresh).sum())    \n",
    "    total_FPs.append(0)\n",
    "    total_TPs.append(0)\n",
    "    total_FPs = np.asarray(total_FPs)/float(len(FROC_data[0]))\n",
    "    total_sensitivity = np.asarray(total_TPs)/float(sum(FROC_data[3]))      \n",
    "    return  total_FPs, total_sensitivity\n",
    "   \n",
    "   \n",
    "def plotFROC(total_FPs, total_sensitivity):\n",
    "    \"\"\"Plots the FROC curve\n",
    "    \n",
    "    Args:\n",
    "        total_FPs:      A list containing the average number of false positives\n",
    "        per image for different thresholds\n",
    "        \n",
    "        total_sensitivity:  A list containig overall sensitivity of the system\n",
    "        for different thresholds\n",
    "         \n",
    "    Returns:\n",
    "        -\n",
    "    \"\"\"    \n",
    "    fig = plt.figure()\n",
    "    plt.xlabel('Average Number of False Positives', fontsize=12)\n",
    "    plt.ylabel('Metastasis detection sensitivity', fontsize=12)  \n",
    "    fig.suptitle('Free response receiver operating characteristic curve', fontsize=12)\n",
    "    plt.plot(total_FPs, total_sensitivity, '-', color='#000000')    \n",
    "    plt.show()       \n"
   ]
  },
  {
   "cell_type": "code",
   "execution_count": 28,
   "id": "dc48eaf4",
   "metadata": {},
   "outputs": [
    {
     "name": "stderr",
     "output_type": "stream",
     "text": [
      "/tmp/ipykernel_20135/3371830982.py:43: DeprecationWarning: Please use `binary_fill_holes` from the `scipy.ndimage` namespace, the `scipy.ndimage.morphology` namespace is deprecated.\n",
      "  filled_image = nd.morphology.binary_fill_holes(binary)\n"
     ]
    },
    {
     "name": "stdout",
     "output_type": "stream",
     "text": [
      "[  0.          36.42857143  72.85714286 109.28571429 145.71428571\n",
      " 182.14285714 218.57142857 255.        ]\n"
     ]
    },
    {
     "data": {
      "image/png": "[encoded data removed]",
      "text/plain": [
       "<Figure size 432x288 with 1 Axes>"
      ]
     },
     "metadata": {
      "needs_background": "light"
     },
     "output_type": "display_data"
    }
   ],
   "source": [
    "mask_folder = \"/data3/ian/dsmil-wsi/test-c16/mask\"\n",
    "maskDIR = \"/data3/ian/dsmil-wsi/test-c16/mask/tumor_026_evaluation_mask.png\"\n",
    "EVALUATION_MASK_LEVEL = 5 # Image level at which the evaluation is done\n",
    "L0_RESOLUTION = 0.243 # pixel resolution at level 0\n",
    "\n",
    "evaluation_mask = computeEvaluationMask(maskDIR, L0_RESOLUTION,0)\n",
    "#print(evaluation_mask)\n",
    "#print(np.unique(evaluation_mask))\n",
    "h, w = np.shape(evaluation_mask)\n",
    "maskDir = \"/data3/ian/dsmil-wsi/test-c16/tumor_output/tumor_026.png\"\n",
    "\n",
    "Probs, Xcorr, Ycorr = readMaskContent(maskDir, w, h)"
   ]
  },
  {
   "cell_type": "code",
   "execution_count": null,
   "id": "3629d3f4",
   "metadata": {},
   "outputs": [
    {
     "name": "stdout",
     "output_type": "stream",
     "text": [
      "Evaluating Performance on image: tumor_044\n"
     ]
    },
    {
     "name": "stderr",
     "output_type": "stream",
     "text": [
      "/tmp/ipykernel_48435/350917990.py:9: DeprecationWarning: `np.object` is a deprecated alias for the builtin `object`. To silence this warning, use `object` by itself. Doing this will not modify any behavior and is safe. \n",
      "Deprecated in NumPy 1.20; for more details and guidance: https://numpy.org/devdocs/release/1.20.0-notes.html#deprecations\n",
      "  FROC_data = np.zeros((4, len(result_file_list)), dtype=np.object)\n",
      "/tmp/ipykernel_48435/350917990.py:10: DeprecationWarning: `np.object` is a deprecated alias for the builtin `object`. To silence this warning, use `object` by itself. Doing this will not modify any behavior and is safe. \n",
      "Deprecated in NumPy 1.20; for more details and guidance: https://numpy.org/devdocs/release/1.20.0-notes.html#deprecations\n",
      "  FP_summary = np.zeros((2, len(result_file_list)), dtype=np.object)\n",
      "/tmp/ipykernel_48435/350917990.py:11: DeprecationWarning: `np.object` is a deprecated alias for the builtin `object`. To silence this warning, use `object` by itself. Doing this will not modify any behavior and is safe. \n",
      "Deprecated in NumPy 1.20; for more details and guidance: https://numpy.org/devdocs/release/1.20.0-notes.html#deprecations\n",
      "  detection_summary = np.zeros((2, len(result_file_list)), dtype=np.object)\n",
      "/tmp/ipykernel_48435/3371830982.py:43: DeprecationWarning: Please use `binary_fill_holes` from the `scipy.ndimage` namespace, the `scipy.ndimage.morphology` namespace is deprecated.\n",
      "  filled_image = nd.morphology.binary_fill_holes(binary)\n"
     ]
    },
    {
     "name": "stdout",
     "output_type": "stream",
     "text": [
      "[  0. 255.]\n"
     ]
    },
    {
     "data": {
      "image/png": "[encoded data removed]",
      "text/plain": [
       "<Figure size 432x288 with 1 Axes>"
      ]
     },
     "metadata": {
      "needs_background": "light"
     },
     "output_type": "display_data"
    },
    {
     "name": "stdout",
     "output_type": "stream",
     "text": [
      "Evaluating Performance on image: tumor_110\n",
      "[  0. 255.]\n"
     ]
    },
    {
     "data": {
      "image/png": "[encoded data removed]",
      "text/plain": [
       "<Figure size 432x288 with 1 Axes>"
      ]
     },
     "metadata": {
      "needs_background": "light"
     },
     "output_type": "display_data"
    },
    {
     "name": "stdout",
     "output_type": "stream",
     "text": [
      "Evaluating Performance on image: tumor_089\n",
      "[  0. 255.]\n"
     ]
    },
    {
     "data": {
      "image/png": "[encoded data removed]",
      "text/plain": [
       "<Figure size 432x288 with 1 Axes>"
      ]
     },
     "metadata": {
      "needs_background": "light"
     },
     "output_type": "display_data"
    },
    {
     "name": "stdout",
     "output_type": "stream",
     "text": [
      "Evaluating Performance on image: tumor_026\n",
      "[  0.          36.42857143  72.85714286 109.28571429 145.71428571\n",
      " 182.14285714 218.57142857 255.        ]\n"
     ]
    },
    {
     "data": {
      "image/png": "[encoded data removed]",
      "text/plain": [
       "<Figure size 432x288 with 1 Axes>"
      ]
     },
     "metadata": {
      "needs_background": "light"
     },
     "output_type": "display_data"
    },
    {
     "name": "stdout",
     "output_type": "stream",
     "text": [
      "Evaluating Performance on image: tumor_076\n",
      "[  0.  127.5 255. ]\n"
     ]
    },
    {
     "data": {
      "image/png": "[encoded data removed]",
      "text/plain": [
       "<Figure size 432x288 with 1 Axes>"
      ]
     },
     "metadata": {
      "needs_background": "light"
     },
     "output_type": "display_data"
    }
   ],
   "source": [
    "mask_folder = \"/data3/ian/dsmil-wsi/test-c16/eval_mask\"\n",
    "result_folder = \"/data3/ian/dsmil-wsi/test-c16/tumor_output\"\n",
    "result_file_list = []\n",
    "result_file_list += [each[:-20] + '.png' for each in os.listdir(mask_folder)]\n",
    "\n",
    "EVALUATION_MASK_LEVEL = 0 # Image level at which the evaluation is done\n",
    "L0_RESOLUTION = 0.243 # pixel resolution at level 0\n",
    "\n",
    "FROC_data = np.zeros((4, len(result_file_list)), dtype=np.object)\n",
    "FP_summary = np.zeros((2, len(result_file_list)), dtype=np.object)\n",
    "detection_summary = np.zeros((2, len(result_file_list)), dtype=np.object)\n",
    "\n",
    "caseNum = 0    \n",
    "for case in result_file_list:\n",
    "    print('Evaluating Performance on image:', case[0:-4])\n",
    "    sys.stdout.flush()\n",
    "\n",
    "    is_tumor = case[0:5] == 'tumor'    \n",
    "    #print(is_tumor)\n",
    "\n",
    "    if (is_tumor):\n",
    "        maskDIR = os.path.join(mask_folder, case[0:-4]) + '_evaluation_mask.png'\n",
    "        evaluation_mask = computeEvaluationMask(maskDIR, L0_RESOLUTION, EVALUATION_MASK_LEVEL)\n",
    "        ITC_labels = computeITCList(evaluation_mask, L0_RESOLUTION, EVALUATION_MASK_LEVEL)\n",
    "    else:\n",
    "        evaluation_mask = 0\n",
    "        ITC_labels = []\n",
    "        \n",
    "    h, w = np.shape(evaluation_mask)\n",
    "    predict_mask = os.path.join(result_folder, case)\n",
    "    Probs, Xcorr, Ycorr = readMaskContent(predict_mask, w, h)\n",
    "\n",
    "    FROC_data[0][caseNum] = case\n",
    "    FP_summary[0][caseNum] = case\n",
    "    detection_summary[0][caseNum] = case\n",
    "    FROC_data[1][caseNum], FROC_data[2][caseNum], FROC_data[3][caseNum], detection_summary[1][caseNum], FP_summary[1][caseNum] = compute_FP_TP_Probs(Ycorr, Xcorr, Probs, is_tumor, evaluation_mask, ITC_labels, EVALUATION_MASK_LEVEL)\n",
    "    caseNum += 1\n",
    "\n",
    "# Compute FROC curve \n",
    "total_FPs, total_sensitivity = computeFROC(FROC_data)\n",
    "\n",
    "# plot FROC curve\n",
    "plotFROC(total_FPs, total_sensitivity)"
   ]
  },
  {
   "cell_type": "code",
   "execution_count": 108,
   "id": "6d771534",
   "metadata": {},
   "outputs": [
    {
     "name": "stdout",
     "output_type": "stream",
     "text": [
      "[1.7753586e+06 1.7751122e+06 1.7677508e+06 1.7629644e+06 1.7599180e+06\n",
      " 1.7580492e+06 1.7572318e+06 1.7504838e+06 1.7435630e+06 1.7402818e+06\n",
      " 1.7368976e+06 1.7356712e+06 1.7283808e+06 1.7221896e+06 1.7181558e+06\n",
      " 1.7155548e+06 1.7140090e+06 1.7068948e+06 1.7011294e+06 1.6962716e+06\n",
      " 1.6911054e+06 1.6906934e+06 1.6852278e+06 1.6816188e+06 1.6790710e+06\n",
      " 1.6739026e+06 1.6728998e+06 1.6694140e+06 1.6632006e+06 1.6601448e+06\n",
      " 1.6530276e+06 1.6504504e+06 1.6479626e+06 1.6377750e+06 1.6323644e+06\n",
      " 1.6188900e+06 1.6151994e+06 1.6116206e+06 1.5970224e+06 1.5932526e+06\n",
      " 1.5829422e+06 1.5792206e+06 1.5770640e+06 1.5625544e+06 1.5588382e+06\n",
      " 1.5455652e+06 1.5393982e+06 1.5353244e+06 1.5081288e+06 1.5037956e+06\n",
      " 1.4851652e+06 1.4799696e+06 1.4770974e+06 1.4550854e+06 1.4519000e+06\n",
      " 1.4372818e+06 1.4316828e+06 1.4298392e+06 1.4041338e+06 1.4002318e+06\n",
      " 1.3922882e+06 1.3761794e+06 1.3739180e+06 1.3425678e+06 1.3382556e+06\n",
      " 1.3311350e+06 1.3113274e+06 1.3088060e+06 1.2876474e+06 1.2849246e+06\n",
      " 1.2802922e+06 1.2632504e+06 1.2612458e+06 1.2392382e+06 1.2359546e+06\n",
      " 1.2303266e+06 1.2163772e+06 1.2144534e+06 1.1858116e+06 1.1783498e+06\n",
      " 1.1564470e+06 1.1551090e+06 1.1370168e+06 1.1323050e+06 1.1301738e+06\n",
      " 1.1147662e+06 1.1124848e+06 1.0959312e+06 1.0903988e+06 1.0883946e+06\n",
      " 1.0739712e+06 1.0720700e+06 1.0515882e+06 1.0489530e+06 1.0459290e+06\n",
      " 1.0263446e+06 1.0249366e+06 1.0104612e+06 1.0082998e+06 1.0069410e+06\n",
      " 1.0057262e+06 9.9029880e+05 9.8628660e+05 9.7296520e+05 9.7110000e+05\n",
      " 9.6969720e+05 9.5733160e+05 9.5450020e+05 9.3754420e+05 9.3656800e+05\n",
      " 9.3448620e+05 9.1783400e+05 9.1484320e+05 9.0391520e+05 9.0269720e+05\n",
      " 9.0098560e+05 8.9660080e+05 8.8440320e+05 8.7321180e+05 8.7232940e+05\n",
      " 8.7062920e+05 8.6673700e+05 8.5563880e+05 8.4557400e+05 8.4449900e+05\n",
      " 8.4260660e+05 8.4048660e+05 8.2760740e+05 8.1729440e+05 8.1603920e+05\n",
      " 8.1480180e+05 8.1136760e+05 7.9107340e+05 7.8979880e+05 7.8700000e+05\n",
      " 7.8544200e+05 7.7771820e+05 7.6431240e+05 7.6308780e+05 7.6137840e+05\n",
      " 7.5987500e+05 7.5442240e+05 7.3881720e+05 7.3817540e+05 7.3549800e+05\n",
      " 7.3466820e+05 7.2597780e+05 7.1401440e+05 7.1281740e+05 7.1147600e+05\n",
      " 7.1051680e+05 7.0400380e+05 6.8942880e+05 6.8856620e+05 6.8666180e+05\n",
      " 6.8604680e+05 6.8066940e+05 6.7124080e+05 6.6795600e+05 6.6740560e+05\n",
      " 6.6263200e+05 6.5437200e+05 6.5185300e+05 6.5082560e+05 6.5043480e+05\n",
      " 6.4620460e+05 6.3492600e+05 6.3301720e+05 6.3200120e+05 6.3131860e+05\n",
      " 6.2795380e+05 6.2576560e+05 6.1830260e+05 6.1776500e+05 6.1755500e+05\n",
      " 6.1219120e+05 6.1078580e+05 6.0049660e+05 5.9952360e+05 5.9884400e+05\n",
      " 5.9716540e+05 5.9431760e+05 5.8420760e+05 5.8377460e+05 5.8336180e+05\n",
      " 5.8058880e+05 5.7927060e+05 5.7328080e+05 5.7288800e+05 5.7196100e+05\n",
      " 5.7013820e+05 5.6867720e+05 5.6208860e+05 5.6155380e+05 5.6097540e+05\n",
      " 5.5889240e+05 5.5793340e+05 5.4762300e+05 5.4531160e+05 5.4364220e+05\n",
      " 5.4327940e+05 5.4240200e+05 5.3446120e+05 5.3334720e+05 5.3116080e+05\n",
      " 5.3096420e+05 5.3031680e+05 5.2431240e+05 5.2289900e+05 5.2137580e+05\n",
      " 5.2118800e+05 5.2045320e+05 5.1113880e+05 5.0991000e+05 5.0896300e+05\n",
      " 5.0846480e+05 5.0763680e+05 5.0167620e+05 5.0048720e+05 4.9932160e+05\n",
      " 4.9890580e+05 4.9797080e+05 4.9377780e+05 4.9146620e+05 4.9066960e+05\n",
      " 4.9060980e+05 4.9020300e+05 4.8783340e+05 4.8206680e+05 4.8111080e+05\n",
      " 4.8078820e+05 4.8044980e+05 4.7924600e+05 4.7437540e+05 4.7241700e+05\n",
      " 4.7191760e+05 4.6966280e+05 4.6617820e+05 4.6502860e+05 4.6468060e+05\n",
      " 4.6319860e+05 4.6313020e+05 4.5648760e+05 4.5537120e+05 4.5495040e+05\n",
      " 4.5380620e+05 4.5329520e+05 4.4908900e+05 4.4736460e+05 4.4733620e+05\n",
      " 4.4462220e+05 4.4458640e+05 4.4097580e+05 4.3977280e+05 4.3971920e+05\n",
      " 4.3645780e+05 4.3611100e+05 4.2980880e+05 4.2905080e+05 4.2896580e+05\n",
      " 4.2450660e+05 4.2420600e+05 4.1898840e+05 4.1406860e+05 4.1393900e+05\n",
      " 4.1325480e+05 4.1252560e+05 4.0508920e+05 3.9843000e+05 3.9827200e+05\n",
      " 3.9801220e+05 3.9714640e+05 3.8967900e+05 3.8393400e+05 3.8391980e+05\n",
      " 3.8328740e+05 3.8129740e+05 3.7577720e+05 3.6476100e+05 3.6460560e+05\n",
      " 3.6449320e+05 3.6313560e+05 3.5444880e+05 3.4923700e+05 3.4905020e+05\n",
      " 3.4883980e+05 3.4760580e+05 3.3559180e+05 3.2464700e+05 3.2441100e+05\n",
      " 3.2414140e+05 3.2306500e+05 3.1557120e+05 3.0989780e+05 3.0987160e+05\n",
      " 3.0948600e+05 3.0047740e+05 2.9881460e+05 2.9859660e+05 2.9097440e+05\n",
      " 2.9056780e+05 2.7924600e+05 2.7780940e+05 2.7778360e+05 2.6891660e+05\n",
      " 2.6853780e+05 2.6095300e+05 2.6026360e+05 2.6009080e+05 2.5229940e+05\n",
      " 2.5209820e+05 2.4469480e+05 2.4397340e+05 2.4380020e+05 2.3389940e+05\n",
      " 2.2496160e+05 2.2376920e+05 2.2373540e+05 2.1723760e+05 2.0910420e+05\n",
      " 2.0861060e+05 2.0806440e+05 2.0805200e+05 2.0202520e+05 1.9293220e+05\n",
      " 1.9224280e+05 1.9145780e+05 1.9145600e+05 1.8584180e+05 1.6858400e+05\n",
      " 1.6829480e+05 1.6695060e+05 1.6694760e+05 1.6354180e+05 1.4644980e+05\n",
      " 1.4584560e+05 1.4368260e+05 1.2540440e+05 1.2090480e+05 1.2018080e+05\n",
      " 1.1815580e+05 1.1815520e+05 1.0481660e+05 1.0023320e+05 9.9234200e+04\n",
      " 9.3417800e+04 9.3417000e+04 8.8442000e+04 8.3589200e+04 8.1017200e+04\n",
      " 7.4167800e+04 7.3670600e+04 6.4215000e+04 6.1044400e+04 5.6966400e+04\n",
      " 5.6966200e+04 5.6940200e+04 4.1005600e+04 3.7926200e+04 3.5450200e+04\n",
      " 3.5413000e+04 2.2117400e+04 1.6705200e+04 1.6243600e+04 1.6225800e+04\n",
      " 5.6656000e+03 4.7712000e+03 4.7712000e+03 4.5838000e+03 4.5704000e+03\n",
      " 4.5704000e+03 4.5360000e+02 2.7580000e+02 2.4800000e+02 9.4000000e+00\n",
      " 9.0000000e+00 8.6000000e+00 8.2000000e+00 7.8000000e+00 7.4000000e+00\n",
      " 7.4000000e+00 7.2000000e+00 1.0000000e+00 8.0000000e-01 8.0000000e-01\n",
      " 0.0000000e+00]\n"
     ]
    }
   ],
   "source": [
    "print(total_FPs)"
   ]
  },
  {
   "cell_type": "code",
   "execution_count": 84,
   "id": "eeef6fa5",
   "metadata": {},
   "outputs": [
    {
     "name": "stdout",
     "output_type": "stream",
     "text": [
      "[1.         1.         1.         1.         1.         1.\n",
      " 1.         1.         1.         1.         1.         1.\n",
      " 1.         1.         1.         1.         1.         1.\n",
      " 1.         1.         1.         1.         1.         1.\n",
      " 1.         1.         1.         1.         1.         1.\n",
      " 1.         1.         1.         1.         1.         1.\n",
      " 1.         1.         1.         1.         1.         1.\n",
      " 1.         1.         1.         1.         1.         1.\n",
      " 1.         1.         1.         1.         1.         1.\n",
      " 1.         1.         1.         1.         1.         1.\n",
      " 1.         1.         1.         1.         1.         1.\n",
      " 1.         1.         1.         1.         1.         1.\n",
      " 1.         1.         1.         1.         1.         1.\n",
      " 1.         1.         1.         1.         1.         1.\n",
      " 1.         1.         1.         1.         1.         1.\n",
      " 1.         1.         1.         1.         1.         1.\n",
      " 1.         1.         1.         1.         1.         1.\n",
      " 1.         1.         1.         1.         1.         1.\n",
      " 1.         1.         1.         1.         1.         1.\n",
      " 1.         1.         1.         1.         1.         1.\n",
      " 1.         1.         1.         1.         1.         1.\n",
      " 1.         1.         1.         1.         1.         1.\n",
      " 1.         1.         1.         1.         1.         1.\n",
      " 1.         1.         1.         1.         1.         1.\n",
      " 1.         1.         1.         1.         1.         1.\n",
      " 1.         1.         1.         1.         1.         1.\n",
      " 1.         1.         1.         1.         1.         1.\n",
      " 1.         1.         1.         1.         1.         1.\n",
      " 1.         1.         1.         1.         1.         1.\n",
      " 1.         1.         1.         1.         1.         1.\n",
      " 1.         1.         1.         1.         1.         1.\n",
      " 1.         1.         1.         1.         1.         1.\n",
      " 1.         1.         1.         1.         1.         1.\n",
      " 1.         1.         1.         1.         1.         1.\n",
      " 1.         1.         1.         1.         1.         1.\n",
      " 1.         1.         1.         1.         1.         1.\n",
      " 1.         1.         1.         1.         1.         1.\n",
      " 1.         1.         1.         1.         1.         1.\n",
      " 1.         1.         1.         1.         1.         1.\n",
      " 1.         1.         1.         1.         1.         1.\n",
      " 1.         1.         1.         1.         1.         1.\n",
      " 1.         1.         1.         1.         1.         1.\n",
      " 1.         1.         1.         1.         1.         1.\n",
      " 1.         1.         1.         1.         1.         1.\n",
      " 1.         1.         1.         1.         1.         1.\n",
      " 1.         1.         1.         1.         1.         1.\n",
      " 1.         1.         1.         1.         1.         1.\n",
      " 1.         1.         1.         1.         1.         1.\n",
      " 1.         1.         1.         1.         1.         1.\n",
      " 1.         1.         1.         1.         1.         1.\n",
      " 1.         1.         1.         1.         1.         1.\n",
      " 1.         1.         1.         1.         1.         1.\n",
      " 1.         1.         1.         1.         1.         1.\n",
      " 1.         1.         1.         1.         1.         1.\n",
      " 1.         1.         1.         1.         1.         1.\n",
      " 1.         1.         1.         1.         1.         1.\n",
      " 1.         1.         1.         1.         1.         1.\n",
      " 1.         1.         1.         1.         1.         1.\n",
      " 1.         1.         1.         1.         1.         1.\n",
      " 1.         1.         1.         1.         1.         1.\n",
      " 1.         1.         1.         1.         1.         1.\n",
      " 1.         1.         0.85714286 0.85714286 0.71428571 0.71428571\n",
      " 0.71428571 0.71428571 0.71428571 0.71428571 0.71428571 0.71428571\n",
      " 0.71428571 0.71428571 0.57142857 0.57142857 0.57142857 0.57142857\n",
      " 0.42857143 0.        ]\n"
     ]
    }
   ],
   "source": [
    "print(total_sensitivity)"
   ]
  },
  {
   "cell_type": "code",
   "execution_count": 126,
   "id": "ad0d9516",
   "metadata": {},
   "outputs": [],
   "source": [
    "FPs = [0.25, 0.5, 1, 2, 4, 8]\n",
    "sensitivity = [0.17857142857142855,0.3571428571428571,0.5714285714285714,0.5714285714285714,0.5714285714285714,0.7142857142857143]"
   ]
  },
  {
   "cell_type": "code",
   "execution_count": 127,
   "id": "65eb3820",
   "metadata": {},
   "outputs": [
    {
     "name": "stdout",
     "output_type": "stream",
     "text": [
      "0.49404761904761907\n"
     ]
    }
   ],
   "source": [
    "print(sum(sensitivity)/len(sensitivity))"
   ]
  },
  {
   "cell_type": "code",
   "execution_count": 128,
   "id": "63db45f4",
   "metadata": {
    "scrolled": true
   },
   "outputs": [
    {
     "data": {
      "image/png": "[encoded data removed]",
      "text/plain": [
       "<Figure size 432x288 with 1 Axes>"
      ]
     },
     "metadata": {
      "needs_background": "light"
     },
     "output_type": "display_data"
    }
   ],
   "source": [
    "plotFROC(FPs, sensitivity)"
   ]
  }
 ],
 "metadata": {
  "kernelspec": {
   "display_name": "Python 3 (ipykernel)",
   "language": "python",
   "name": "python3"
  },
  "language_info": {
   "codemirror_mode": {
    "name": "ipython",
    "version": 3
   },
   "file_extension": ".py",
   "mimetype": "text/x-python",
   "name": "python",
   "nbconvert_exporter": "python",
   "pygments_lexer": "ipython3",
   "version": "3.8.13"
  }
 },
 "nbformat": 4,
 "nbformat_minor": 5
}
